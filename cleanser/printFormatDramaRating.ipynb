{
 "cells": [
  {
   "cell_type": "code",
   "execution_count": 18,
   "metadata": {
    "collapsed": false
   },
   "outputs": [],
   "source": [
    "from bs4 import BeautifulSoup\n",
    "from selenium import webdriver\n",
    "import time\n",
    "import odbc\n",
    "import pandas as pd\n",
    "connect=odbc.odbc('tv')\n",
    "db=connect.cursor()\n",
    "db.execute(\"SELECT mtc.master_id,mtc.tvrating_id,mtc.delivery,mtc.min_broad_date,tr.date,tr.rating FROM tv.master_table_cleansing as mtc, tv.tv_rating as tr where tr.drama_id = mtc.tvrating_id and tr.date>=mtc.min_broad_date and tr.area='nationwide' order by 1;\")\n",
    "table = db.fetchall()"
   ]
  },
  {
   "cell_type": "code",
   "execution_count": 19,
   "metadata": {
    "collapsed": false
   },
   "outputs": [],
   "source": [
    "isPass=False\n",
    "nowDrama=table[0][0]\n",
    "ratingTable=[]\n",
    "temp=[]\n",
    "for x in range(len(table)):\n",
    "    if(isPass):\n",
    "        isPass=False;\n",
    "        continue\n",
    "    if(x==len(table)-1):\n",
    "        break\n",
    "    if(table[x][0]==table[x+1][0]):\n",
    "        temp=[table[x][0],table[x][5],table[x+1][5]]\n",
    "        isPass=True\n",
    "    else:\n",
    "        temp=[table[x][0],table[x][5],table[x][5]]\n",
    "    ratingTable.append(temp)"
   ]
  },
  {
   "cell_type": "code",
   "execution_count": 20,
   "metadata": {
    "collapsed": false
   },
   "outputs": [
    {
     "name": "stdout",
     "output_type": "stream",
     "text": [
      "        0       1       2\n",
      "0       1   7.600   7.200\n",
      "1       1   8.100   8.700\n",
      "2       1   7.200   7.800\n",
      "3       1   8.000   7.800\n",
      "4       1   8.000   7.100\n",
      "5       1   7.400   7.800\n",
      "6       5  11.700  10.300\n",
      "7       5  12.300  10.500\n",
      "8       5  10.500  10.600\n",
      "9       5  10.700  11.500\n",
      "10      5  10.400  11.400\n",
      "11      5  10.600  12.500\n",
      "12      5  10.000  10.000\n",
      "13      6  17.200  18.400\n",
      "14      6  18.400  13.800\n",
      "15      6  17.100  15.500\n",
      "16      6  16.800  16.100\n",
      "17      6   7.200  16.700\n",
      "18      6   7.800  12.800\n",
      "19      6  17.100  17.600\n",
      "20      6  17.200  18.400\n",
      "21      7  22.200  17.300\n",
      "22      7  25.400  21.400\n",
      "23      7  25.600  22.900\n",
      "24      7  18.700  14.500\n",
      "25      7  23.300  23.700\n",
      "26      7  18.600  14.500\n",
      "27      7  24.900  18.600\n",
      "28      7  22.200  20.900\n",
      "29      7  14.900  14.900\n",
      "...   ...     ...     ...\n",
      "1010  171  18.900  18.900\n",
      "1011  171  22.300  26.400\n",
      "1012  171  19.200  19.200\n",
      "1013  171  19.000  28.300\n",
      "1014  171  21.900  22.000\n",
      "1015  171  28.900  16.500\n",
      "1016  171  16.500  20.600\n",
      "1017  171  22.500  14.600\n",
      "1018  171  19.600  19.600\n",
      "1019  171  21.200  22.200\n",
      "1020  171  23.600  24.200\n",
      "1021  171  22.200  16.600\n",
      "1022  171  16.600  19.700\n",
      "1023  171  22.300  13.100\n",
      "1024  171  19.200  19.200\n",
      "1025  171  21.200  21.700\n",
      "1026  171  13.300  16.500\n",
      "1027  171  16.500  18.100\n",
      "1028  171  21.400  22.900\n",
      "1029  171  24.900  26.400\n",
      "1030  171  18.500  18.500\n",
      "1031  171  19.800  19.800\n",
      "1032  178   3.317   4.559\n",
      "1033  178   3.418   3.844\n",
      "1034  178   3.104   3.493\n",
      "1035  178   3.671   4.559\n",
      "1036  178   4.062   3.928\n",
      "1037  178   2.574   3.190\n",
      "1038  178   5.372   3.890\n",
      "1039  178   4.196   3.188\n",
      "\n",
      "[1040 rows x 3 columns]\n"
     ]
    }
   ],
   "source": [
    "df=pd.DataFrame(ratingTable)\n",
    "print(df)"
   ]
  },
  {
   "cell_type": "code",
   "execution_count": 23,
   "metadata": {
    "collapsed": false
   },
   "outputs": [],
   "source": [
    "writer = pd.ExcelWriter('drama_data.xlsx')\n",
    "df.to_excel(writer,'Sheet1')\n",
    "writer.save()"
   ]
  },
  {
   "cell_type": "code",
   "execution_count": null,
   "metadata": {
    "collapsed": true
   },
   "outputs": [],
   "source": [
    "# test set ver"
   ]
  },
  {
   "cell_type": "code",
   "execution_count": 1,
   "metadata": {
    "collapsed": true
   },
   "outputs": [],
   "source": [
    "import time\n",
    "import odbc\n",
    "import pandas as pd\n",
    "connect=odbc.odbc('tv')\n",
    "db=connect.cursor()\n",
    "db.execute(\"SELECT \\\n",
    "    mtc.master_id,\\\n",
    "    mtc.drama_id,\\\n",
    "    mtc.naver_id,\\\n",
    "    mtc.delivery,\\\n",
    "    mtc.min_date,\\\n",
    "    tr.date,\\\n",
    "    tr.rating \\\n",
    "FROM \\\n",
    "    tv.master_table_cleansing AS mtc,\\\n",
    "    tv.tv_rating AS tr \\\n",
    "WHERE \\\n",
    "    tr.drama_id = mtc.drama_id \\\n",
    "        AND tr.date >= mtc.min_date \\\n",
    "        AND tr.area = 'capital' \\\n",
    "ORDER BY 1;\")\n",
    "table = db.fetchall()"
   ]
  },
  {
   "cell_type": "code",
   "execution_count": 5,
   "metadata": {
    "collapsed": true
   },
   "outputs": [],
   "source": [
    "isPass=False\n",
    "nowDrama=table[0][0]\n",
    "ratingTable=[]\n",
    "temp=[]\n",
    "for x in range(len(table)):\n",
    "    if(isPass):\n",
    "        isPass=False;\n",
    "        continue\n",
    "    if(x==len(table)-1):\n",
    "        break\n",
    "    if(table[x][0]==table[x+1][0]):\n",
    "        temp=[table[x][0],table[x][6],table[x+1][6]]\n",
    "        isPass=True\n",
    "    else:\n",
    "        temp=[table[x][0],table[x][6],table[x][6]]\n",
    "    ratingTable.append(temp)"
   ]
  },
  {
   "cell_type": "code",
   "execution_count": 6,
   "metadata": {
    "collapsed": false
   },
   "outputs": [
    {
     "data": {
      "text/html": [
       "<div>\n",
       "<table border=\"1\" class=\"dataframe\">\n",
       "  <thead>\n",
       "    <tr style=\"text-align: right;\">\n",
       "      <th></th>\n",
       "      <th>0</th>\n",
       "      <th>1</th>\n",
       "      <th>2</th>\n",
       "    </tr>\n",
       "  </thead>\n",
       "  <tbody>\n",
       "    <tr>\n",
       "      <th>2268</th>\n",
       "      <td>158</td>\n",
       "      <td>3.056</td>\n",
       "      <td>3.673</td>\n",
       "    </tr>\n",
       "    <tr>\n",
       "      <th>2269</th>\n",
       "      <td>158</td>\n",
       "      <td>6.452</td>\n",
       "      <td>4.928</td>\n",
       "    </tr>\n",
       "    <tr>\n",
       "      <th>2270</th>\n",
       "      <td>158</td>\n",
       "      <td>4.811</td>\n",
       "      <td>3.695</td>\n",
       "    </tr>\n",
       "    <tr>\n",
       "      <th>2271</th>\n",
       "      <td>158</td>\n",
       "      <td>3.834</td>\n",
       "      <td>3.482</td>\n",
       "    </tr>\n",
       "    <tr>\n",
       "      <th>2272</th>\n",
       "      <td>158</td>\n",
       "      <td>5.085</td>\n",
       "      <td>4.187</td>\n",
       "    </tr>\n",
       "  </tbody>\n",
       "</table>\n",
       "</div>"
      ],
      "text/plain": [
       "        0      1      2\n",
       "2268  158  3.056  3.673\n",
       "2269  158  6.452  4.928\n",
       "2270  158  4.811  3.695\n",
       "2271  158  3.834  3.482\n",
       "2272  158  5.085  4.187"
      ]
     },
     "execution_count": 6,
     "metadata": {},
     "output_type": "execute_result"
    }
   ],
   "source": [
    "df=pd.DataFrame(ratingTable)\n",
    "df.tail()"
   ]
  },
  {
   "cell_type": "code",
   "execution_count": 7,
   "metadata": {
    "collapsed": true
   },
   "outputs": [],
   "source": [
    "writer = pd.ExcelWriter('test_rating_data.xlsx')\n",
    "df.to_excel(writer,'Sheet1')\n",
    "writer.save()"
   ]
  },
  {
   "cell_type": "code",
   "execution_count": null,
   "metadata": {
    "collapsed": true
   },
   "outputs": [],
   "source": []
  }
 ],
 "metadata": {
  "kernelspec": {
   "display_name": "Python 3",
   "language": "python",
   "name": "python3"
  },
  "language_info": {
   "codemirror_mode": {
    "name": "ipython",
    "version": 3
   },
   "file_extension": ".py",
   "mimetype": "text/x-python",
   "name": "python",
   "nbconvert_exporter": "python",
   "pygments_lexer": "ipython3",
   "version": "3.5.3"
  }
 },
 "nbformat": 4,
 "nbformat_minor": 0
}
