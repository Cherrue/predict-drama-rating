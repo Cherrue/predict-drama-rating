{
 "cells": [
  {
   "cell_type": "code",
   "execution_count": 21,
   "metadata": {
    "collapsed": true
   },
   "outputs": [],
   "source": [
    "import time\n",
    "import odbc\n",
    "import pandas as pd"
   ]
  },
  {
   "cell_type": "code",
   "execution_count": 2,
   "metadata": {
    "collapsed": true
   },
   "outputs": [],
   "source": [
    "import re\n",
    "def onlyKorean(s):\n",
    "    hangeul = re.compile('[^ ㄱ-ㅣ가-힣]+') # 한글과 띄어쓰기를 제외한 모든 글자\n",
    "    # hangul = re.compile('[^ \\u3131-\\u3163\\uac00-\\ud7a3]+')  # 위와 동일\n",
    "    hangeul_s = hangeul.sub('', s) # 한글과 띄어쓰기를 제외한 모든 부분을 제거\n",
    "    not_hangeul_l = hangeul.findall(s) # 정규식에 일치되는 부분을 리스트 형태로 저장\n",
    "    return hangeul_s,not_hangeul_l"
   ]
  },
  {
   "cell_type": "code",
   "execution_count": 3,
   "metadata": {
    "collapsed": true
   },
   "outputs": [],
   "source": [
    "connect=odbc.odbc('tv')\n",
    "db=connect.cursor()"
   ]
  },
  {
   "cell_type": "code",
   "execution_count": 27,
   "metadata": {
    "collapsed": true
   },
   "outputs": [],
   "source": [
    "db.execute(\"SELECT d.drama_id,d.title FROM (select ori.drama_id,ori.video_id from tv.tvcast_video_list as ori,(SELECT drama_id,count(*) cnt FROM tv.tvcast_video_list group by drama_id having cnt>=98 and cnt<=595) as re where ori.drama_id=re.drama_id) AS v, tv.tvcast_drama_list AS d WHERE d.drama_id = v.drama_id AND d.title NOT LIKE '%웹%' group by d.drama_id;\")\n",
    "naver = db.fetchall()"
   ]
  },
  {
   "cell_type": "code",
   "execution_count": 28,
   "metadata": {
    "collapsed": true
   },
   "outputs": [],
   "source": [
    "db.execute(\"SELECT * FROM tv.drama;\")\n",
    "rate = db.fetchall()"
   ]
  },
  {
   "cell_type": "code",
   "execution_count": 29,
   "metadata": {
    "collapsed": false
   },
   "outputs": [],
   "source": [
    "data=[]\n",
    "temp=[]\n",
    "for rate_row in rate:\n",
    "    rate_title = rate_row[2]\n",
    "    for naver_row in naver:\n",
    "        naver_title=naver_row[1]\n",
    "        naver_title_re,sp_chars = onlyKorean(naver_title)\n",
    "        naver_title_re = naver_title_re.strip()\n",
    "        if len(naver_title_re)==0:\n",
    "            continue\n",
    "        if naver_title_re in rate_title:\n",
    "            temp=[rate_row[0],rate_row[2],naver_row[0],naver_row[1]]\n",
    "            data.append(temp)"
   ]
  },
  {
   "cell_type": "code",
   "execution_count": 30,
   "metadata": {
    "collapsed": false
   },
   "outputs": [],
   "source": [
    "df = pd.DataFrame(data)"
   ]
  },
  {
   "cell_type": "code",
   "execution_count": 31,
   "metadata": {
    "collapsed": false
   },
   "outputs": [
    {
     "data": {
      "text/html": [
       "<div>\n",
       "<table border=\"1\" class=\"dataframe\">\n",
       "  <thead>\n",
       "    <tr style=\"text-align: right;\">\n",
       "      <th></th>\n",
       "      <th>0</th>\n",
       "      <th>1</th>\n",
       "      <th>2</th>\n",
       "      <th>3</th>\n",
       "    </tr>\n",
       "  </thead>\n",
       "  <tbody>\n",
       "    <tr>\n",
       "      <th>0</th>\n",
       "      <td>92</td>\n",
       "      <td>주말극특별기획(KBS신화는계속된다엄마가뿔났다)</td>\n",
       "      <td>556</td>\n",
       "      <td>엄마</td>\n",
       "    </tr>\n",
       "    <tr>\n",
       "      <th>1</th>\n",
       "      <td>94</td>\n",
       "      <td>닥터스</td>\n",
       "      <td>350</td>\n",
       "      <td>닥터스</td>\n",
       "    </tr>\n",
       "    <tr>\n",
       "      <th>2</th>\n",
       "      <td>102</td>\n",
       "      <td>주말연속극(엄마가뿔났다)</td>\n",
       "      <td>556</td>\n",
       "      <td>엄마</td>\n",
       "    </tr>\n",
       "    <tr>\n",
       "      <th>3</th>\n",
       "      <td>115</td>\n",
       "      <td>설날특집대박식당의비밀</td>\n",
       "      <td>411</td>\n",
       "      <td>대박</td>\n",
       "    </tr>\n",
       "    <tr>\n",
       "      <th>4</th>\n",
       "      <td>169</td>\n",
       "      <td>주말연속극(엄마가뿔났다&lt;재&gt;)</td>\n",
       "      <td>556</td>\n",
       "      <td>엄마</td>\n",
       "    </tr>\n",
       "  </tbody>\n",
       "</table>\n",
       "</div>"
      ],
      "text/plain": [
       "     0                          1    2    3\n",
       "0   92  주말극특별기획(KBS신화는계속된다엄마가뿔났다)  556   엄마\n",
       "1   94                        닥터스  350  닥터스\n",
       "2  102              주말연속극(엄마가뿔났다)  556   엄마\n",
       "3  115                설날특집대박식당의비밀  411   대박\n",
       "4  169           주말연속극(엄마가뿔났다<재>)  556   엄마"
      ]
     },
     "execution_count": 31,
     "metadata": {},
     "output_type": "execute_result"
    }
   ],
   "source": [
    "df.head()"
   ]
  },
  {
   "cell_type": "code",
   "execution_count": 26,
   "metadata": {
    "collapsed": true
   },
   "outputs": [],
   "source": [
    "writer = pd.ExcelWriter('master_table.xlsx')\n",
    "df.to_excel(writer,'Sheet1')\n",
    "writer.save()"
   ]
  },
  {
   "cell_type": "code",
   "execution_count": null,
   "metadata": {
    "collapsed": true
   },
   "outputs": [],
   "source": []
  }
 ],
 "metadata": {
  "kernelspec": {
   "display_name": "Python 3",
   "language": "python",
   "name": "python3"
  },
  "language_info": {
   "codemirror_mode": {
    "name": "ipython",
    "version": 3
   },
   "file_extension": ".py",
   "mimetype": "text/x-python",
   "name": "python",
   "nbconvert_exporter": "python",
   "pygments_lexer": "ipython3",
   "version": "3.5.3"
  }
 },
 "nbformat": 4,
 "nbformat_minor": 0
}
